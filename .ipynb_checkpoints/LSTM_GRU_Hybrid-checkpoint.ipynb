{
 "cells": [
  {
   "cell_type": "code",
   "execution_count": null,
   "id": "9b7d5cc2-18df-471b-81e0-c90a56593d6d",
   "metadata": {},
   "outputs": [],
   "source": [
    "import pandas as pd\n",
    "\n",
    "# Load the dataset\n",
    "file_path = 'SolarPrediction.csv'  # Replace with the correct path\n",
    "dataset = pd.read_csv(file_path)\n",
    "\n",
    "# Analyze the dataset structure\n",
    "print(dataset.info())  # Provides information about columns and data types\n",
    "print(dataset.head())  # Displays the first few rows of the dataset\n",
    "print(dataset.describe())  # Statistical summary of numerical columns\n"
   ]
  }
 ],
 "metadata": {
  "kernelspec": {
   "display_name": "Python 3 (ipykernel)",
   "language": "python",
   "name": "python3"
  },
  "language_info": {
   "codemirror_mode": {
    "name": "ipython",
    "version": 3
   },
   "file_extension": ".py",
   "mimetype": "text/x-python",
   "name": "python",
   "nbconvert_exporter": "python",
   "pygments_lexer": "ipython3",
   "version": "3.12.8"
  }
 },
 "nbformat": 4,
 "nbformat_minor": 5
}
